{
  "nbformat": 4,
  "nbformat_minor": 0,
  "metadata": {
    "colab": {
      "provenance": [],
      "authorship_tag": "ABX9TyMTcWEePNWqI7ljTbOk0Wpc",
      "include_colab_link": true
    },
    "kernelspec": {
      "name": "python3",
      "display_name": "Python 3"
    },
    "language_info": {
      "name": "python"
    }
  },
  "cells": [
    {
      "cell_type": "markdown",
      "metadata": {
        "id": "view-in-github",
        "colab_type": "text"
      },
      "source": [
        "<a href=\"https://colab.research.google.com/github/lartmann/deepfake_detection_project/blob/main/NVB_preprocessing.ipynb\" target=\"_parent\"><img src=\"https://colab.research.google.com/assets/colab-badge.svg\" alt=\"Open In Colab\"/></a>"
      ]
    },
    {
      "cell_type": "code",
      "execution_count": null,
      "metadata": {
        "id": "UcM0RCcXVcFM"
      },
      "outputs": [],
      "source": [
        "import numpy as np\n",
        "import pandas as pd\n",
        "import cv2\n",
        "import os"
      ]
    },
    {
      "cell_type": "code",
      "execution_count": null,
      "metadata": {
        "id": "xdgvblmrF_Yz"
      },
      "outputs": [],
      "source": [
        "!pip install mediapipe"
      ]
    },
    {
      "cell_type": "code",
      "execution_count": null,
      "metadata": {
        "id": "hmz7YFLpEoAF"
      },
      "outputs": [],
      "source": [
        "from google.colab import drive\n",
        "drive.mount('/content/drive')"
      ]
    },
    {
      "cell_type": "code",
      "execution_count": null,
      "metadata": {
        "id": "hzngMpbtF9AK"
      },
      "outputs": [],
      "source": [
        "# import helper functions from my github\n",
        "!wget https://raw.githubusercontent.com/lartmann/deepfake_detection_project/main/ComputerVision/helper_functions_CV.py\n",
        "from helper_functions_CV import plot_loss_curves, video_to_images_array, get_face_box, process_images, find_max, get_padding, split_in_batches, "
      ]
    },
    {
      "cell_type": "markdown",
      "metadata": {
        "id": "8kQ1TxaiEapH"
      },
      "source": [
        "# 🟡 Load kaggle Dataset \n",
        "upload kaggle.json file with credentials to main folder"
      ]
    },
    {
      "cell_type": "code",
      "execution_count": null,
      "metadata": {
        "id": "xoYyYIAEEZvt"
      },
      "outputs": [],
      "source": [
        "!mkdir ~/.kaggle #create the .kaggle folder in your root directory\n",
        "! cp '/content/drive/MyDrive/kaggle.json' ~/.kaggle/ #write kaggle API credentials to kaggle.json\n",
        "!chmod 600 ~/.kaggle/kaggle.json  # set permissions\n",
        "!pip install kaggle #install the kaggle library"
      ]
    },
    {
      "cell_type": "code",
      "execution_count": null,
      "metadata": {
        "id": "oN920ZsIlIRO"
      },
      "outputs": [],
      "source": [
        "!kaggle datasets download -d sorokin/faceforensics"
      ]
    },
    {
      "cell_type": "code",
      "execution_count": null,
      "metadata": {
        "id": "iETZuTgmH6xs"
      },
      "outputs": [],
      "source": [
        "import os\n",
        "#!unzip Deepfake-Detection-Challenge.zip -d Deepfake-Detection-Challenge\n",
        "os.chdir('/content')\n",
        "!unzip faceforensics.zip -d faceforensics"
      ]
    },
    {
      "cell_type": "markdown",
      "metadata": {
        "id": "GBBV81pOc5Oz"
      },
      "source": [
        "### 🟡 MAIN Preprocessing"
      ]
    },
    {
      "cell_type": "markdown",
      "metadata": {
        "id": "GiZ5Lf0eiC2R"
      },
      "source": [
        "\n",
        "\n",
        "Goal Shape: `(num_batches, num_max_frame, width, height, channel)`\n",
        "\n",
        "**Steps:**\n",
        "\n",
        "1. Video to Image-Array\n",
        "2. extract faces\n",
        "3. crop to face\n",
        "4. save as nparray\n",
        "\n",
        "\n",
        "**Reshape data:**\n",
        "5. Pad images (that all have the same dimensions)\n",
        "  - find max height and width for ALL faces\n",
        "6. split videos into batches (with same number of frames)\n",
        "\n",
        "\n",
        "\n",
        "\n",
        "\n"
      ]
    },
    {
      "cell_type": "markdown",
      "metadata": {
        "id": "nCqpFf5--75T"
      },
      "source": [
        "#### Process F2F Videos\n",
        "Save them to google Drive"
      ]
    },
    {
      "cell_type": "code",
      "execution_count": null,
      "metadata": {
        "id": "_3JTw2NiiBaG"
      },
      "outputs": [],
      "source": [
        "# move to directory with f2f videos\n",
        "os.chdir('/content/faceforensics/manipulated_sequences/Face2Face/c23/videos')\n",
        "\n",
        "\n",
        "f2f_path = '/content/drive/MyDrive/nvb/F2F'\n",
        "count = 0\n",
        "# loop throug all the files in a \n",
        "for video in os.listdir():\n",
        "  count += 1\n",
        "  if video.endswith('.mp4') and f'{video}.npz' not in os.listdir(f2f_path):\n",
        "    v = cv2.VideoCapture(video)\n",
        "    imgs = video_to_images_array(v)\n",
        "    faces = process_images(imgs, 300,300)\n",
        "    print(faces.shape)\n",
        "    print(faces.dtype)\n",
        "    # save imgs as np array\n",
        "    np.savez_compressed(f'{f2f_path}/{video}.npz', data = faces, labels = [1]*len(faces))\n",
        "  print('done ' + str(count) )"
      ]
    },
    {
      "cell_type": "code",
      "execution_count": null,
      "metadata": {
        "id": "PhbBSwnZodPv"
      },
      "outputs": [],
      "source": [
        "for f in os.listdir(f2f_path):\n",
        "  if f.endswith('.npz'):\n",
        "\n",
        "    print(f)\n",
        "    data = np.load(f'{f2f_path}/{f}')\n",
        "    np.savez_compressed(f'{f2f_path}/{f}_with_labels.npz', data = data, labels = [1]*len(data))"
      ]
    },
    {
      "cell_type": "markdown",
      "metadata": {
        "id": "xs9I60JR_H4L"
      },
      "source": [
        "####  Process original Videos\n",
        "Save numpy to google Drive"
      ]
    },
    {
      "cell_type": "code",
      "execution_count": null,
      "metadata": {
        "id": "me-0xw78_PpX"
      },
      "outputs": [],
      "source": [
        "os.chdir('/content/faceforensics/original_sequences/youtube/c23/videos')\n",
        "\n",
        "count = 0\n",
        "original_path = '/content/drive/MyDrive/nvb/original'\n",
        "# loop throug all the files in a \n",
        "for video in os.listdir():\n",
        "  count += 1\n",
        "  if video.endswith('.mp4') and f'{video}.npz' not in os.listdir(original_path):\n",
        "    v = cv2.VideoCapture(video)\n",
        "    imgs = video_to_images_array(v)\n",
        "    faces = process_images(imgs, 300,300)\n",
        "    print(faces.shape)\n",
        "    print(faces.dtype)\n",
        "    # save imgs as np array\n",
        "    np.savez_compressed(f'{original_path}/{video}.npz', data = faces)\n",
        "  print('done ' + str(count) )"
      ]
    }
  ]
}